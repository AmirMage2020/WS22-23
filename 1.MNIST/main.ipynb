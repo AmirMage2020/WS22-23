{
 "cells": [
  {
   "cell_type": "code",
   "execution_count": 6,
   "metadata": {},
   "outputs": [],
   "source": [
    "import torch\n",
    "import numpy as np\n",
    "import matplotlib as plt\n",
    "from torchvision import datasets, transforms\n",
    "from torch.utils.data import random_split, DataLoader"
   ]
  },
  {
   "cell_type": "code",
   "execution_count": 5,
   "metadata": {},
   "outputs": [],
   "source": [
    "mytransform = transforms.Compose([transforms.ToTensor(),\n",
    "                    transforms.Normalize((0.7,), (0.7,))\n",
    "                    ])     \n",
    "train_set = datasets.MNIST(root = './data', train = True, transform = mytransform, download = True)\n",
    "test_set = datasets.MNIST(root = './data', train = False, transform = mytransform, download = True)\n"
   ]
  },
  {
   "cell_type": "code",
   "execution_count": 7,
   "metadata": {},
   "outputs": [],
   "source": [
    "\n",
    "split = 0.8\n",
    "train_size = int(train_set.__len__() * split)\n",
    "val_size = int(train_set.__len__()) - train_size\n",
    "train, val = random_split(train_set, [train_size, val_size])\n",
    "train_loader = DataLoader(train, batch_size=32, shuffle=True)\n",
    "val_loader = DataLoader(val, batch_size = 32, shuffle=True)"
   ]
  },
  {
   "cell_type": "code",
   "execution_count": 32,
   "metadata": {},
   "outputs": [
    {
     "name": "stdout",
     "output_type": "stream",
     "text": [
      "torch.Size([32, 1, 28, 28])\n"
     ]
    }
   ],
   "source": [
    "iterator = iter(train_loader)\n",
    "batch = next(iterator)\n",
    "x, y = batch\n",
    "print(x.shape)\n"
   ]
  }
 ],
 "metadata": {
  "kernelspec": {
   "display_name": "Python 3.9.6 ('env')",
   "language": "python",
   "name": "python3"
  },
  "language_info": {
   "codemirror_mode": {
    "name": "ipython",
    "version": 3
   },
   "file_extension": ".py",
   "mimetype": "text/x-python",
   "name": "python",
   "nbconvert_exporter": "python",
   "pygments_lexer": "ipython3",
   "version": "3.9.6"
  },
  "orig_nbformat": 4,
  "vscode": {
   "interpreter": {
    "hash": "1ac2795493b3c8a98e1d51f9bca4fab5fcea64dcea90dee5792dd55a40a58369"
   }
  }
 },
 "nbformat": 4,
 "nbformat_minor": 2
}
