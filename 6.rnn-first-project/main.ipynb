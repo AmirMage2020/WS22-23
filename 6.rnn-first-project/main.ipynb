{
 "cells": [
  {
   "cell_type": "code",
   "execution_count": 2,
   "metadata": {},
   "outputs": [],
   "source": [
    "import torch\n",
    "import torch.nn as nn\n",
    "import numpy as np\n",
    "import torchvision\n",
    "import torchvision.transforms as transforms\n",
    "#https://www.youtube.com/watch?v=-1_PgWWmauHk&ab_channel=PythonEngineer"
   ]
  },
  {
   "cell_type": "code",
   "execution_count": 24,
   "metadata": {},
   "outputs": [],
   "source": [
    "\n",
    "\n",
    "\n",
    "device = torch.device('cuda' if torch.cuda.is_available() else 'cpu')\n",
    "\n",
    "hidden_size = 128\n",
    "num_classes = 10\n",
    "num_epochs = 2\n",
    "batch_size = 100\n",
    "learning_rate = 1e-3\n",
    "\n",
    "input_size = 28\n",
    "sequence_length = 28\n",
    "num_layers = 2\n"
   ]
  },
  {
   "cell_type": "code",
   "execution_count": 25,
   "metadata": {},
   "outputs": [],
   "source": [
    "train_dataset = torchvision.datasets.MNIST(root='./data', train = True, transform=transforms.ToTensor(), download=True)\n",
    "test_dataset = torchvision.datasets.MNIST(root='./data', train = False, transform=transforms.ToTensor(), download=True)"
   ]
  },
  {
   "cell_type": "code",
   "execution_count": 26,
   "metadata": {},
   "outputs": [],
   "source": [
    "train_loader = torch.utils.data.DataLoader(dataset=train_dataset, batch_size=batch_size, shuffle=True)"
   ]
  },
  {
   "cell_type": "code",
   "execution_count": 33,
   "metadata": {},
   "outputs": [],
   "source": [
    "test_loader = torch.utils.data.DataLoader(dataset=test_dataset, batch_size=batch_size, shuffle=False)"
   ]
  },
  {
   "cell_type": "code",
   "execution_count": 45,
   "metadata": {},
   "outputs": [],
   "source": [
    "class RNN(nn.Module):\n",
    "    def __init__(self, input_size, hidden_size, num_layers, num_classes):\n",
    "        super(RNN, self).__init__()\n",
    "        self.num_layers = num_layers\n",
    "        self.hidden_size = hidden_size\n",
    "        self.rnn = nn.RNN(input_size, hidden_size, num_layers, batch_first=True)\n",
    "        self.fc = nn.Linear(hidden_size, num_classes)\n",
    "\n",
    "    def forward(self, x):\n",
    "        h0 = torch.zeros(self.num_layers, x.size(0), self.hidden_size).to(device)\n",
    "        out, _ = self.rnn(x, h0)\n",
    "        out = out[:, -1, :]\n",
    "        return self.fc(out)\n"
   ]
  },
  {
   "cell_type": "code",
   "execution_count": 46,
   "metadata": {},
   "outputs": [],
   "source": [
    "model = RNN(input_size, hidden_size, num_layers, num_classes)\n",
    "\n",
    "criterion = nn.CrossEntropyLoss()\n",
    "optimizer = torch.optim.Adam(model.parameters(), lr=learning_rate)"
   ]
  },
  {
   "cell_type": "code",
   "execution_count": 47,
   "metadata": {},
   "outputs": [
    {
     "name": "stdout",
     "output_type": "stream",
     "text": [
      "Epoch [1/2], Step [100/600], Loss: 1.1657\n",
      "Epoch [1/2], Step [200/600], Loss: 0.6545\n",
      "Epoch [1/2], Step [300/600], Loss: 0.6880\n",
      "Epoch [1/2], Step [400/600], Loss: 0.5132\n",
      "Epoch [1/2], Step [500/600], Loss: 0.3599\n",
      "Epoch [1/2], Step [600/600], Loss: 0.2493\n",
      "Epoch [2/2], Step [100/600], Loss: 0.3619\n",
      "Epoch [2/2], Step [200/600], Loss: 0.2656\n",
      "Epoch [2/2], Step [300/600], Loss: 0.1973\n",
      "Epoch [2/2], Step [400/600], Loss: 0.2154\n",
      "Epoch [2/2], Step [500/600], Loss: 0.4495\n",
      "Epoch [2/2], Step [600/600], Loss: 0.2851\n"
     ]
    }
   ],
   "source": [
    "\n",
    "n_total_steps = len(train_loader)\n",
    "for epoch in range(num_epochs):\n",
    "    for i, (images, labels) in enumerate(train_loader):\n",
    "\n",
    "        images = images.reshape(-1, sequence_length, input_size).to(device)\n",
    "        labels = labels.to(device)\n",
    "\n",
    "        outputs = model(images)\n",
    "\n",
    "        loss = criterion(outputs, labels)\n",
    "\n",
    "        optimizer.zero_grad()\n",
    "        loss.backward()\n",
    "        optimizer.step()\n",
    "\n",
    "        if (i+1)%100 == 0:\n",
    "            print(f'Epoch [{epoch+1}/{num_epochs}], Step [{i+1}/{n_total_steps}], Loss: {loss.item():.4f}')"
   ]
  },
  {
   "cell_type": "code",
   "execution_count": 49,
   "metadata": {},
   "outputs": [
    {
     "name": "stdout",
     "output_type": "stream",
     "text": [
      "Model : RNN\n",
      "Accuracy: 0.93\n"
     ]
    }
   ],
   "source": [
    "model.eval()\n",
    "num_correct_prediction = 0\n",
    "total_number_prediction = 0\n",
    "for i, (images, labels) in enumerate(test_loader):\n",
    "    images = images.reshape(-1, sequence_length, input_size)\n",
    "    with torch.no_grad():\n",
    "        output = model(images)\n",
    "        predicted_labels = torch.argmax(output, dim=1)\n",
    "        num_correct_prediction += torch.sum(labels == predicted_labels)\n",
    "        total_number_prediction += len(labels)\n",
    "\n",
    "print(\"Model : RNN\")\n",
    "\n",
    "print(f'Accuracy: {(num_correct_prediction/total_number_prediction):.2f}')\n"
   ]
  },
  {
   "cell_type": "code",
   "execution_count": 50,
   "metadata": {},
   "outputs": [],
   "source": [
    "class LSTM(nn.Module):\n",
    "    def __init__(self, input_size, hidden_size, num_layers, num_classes):\n",
    "        super(LSTM, self).__init__()\n",
    "        self.num_layers = num_layers\n",
    "        self.hidden_size = hidden_size\n",
    "        self.rnn = nn.LSTM(input_size, hidden_size, num_layers, batch_first=True)\n",
    "        self.fc = nn.Linear(hidden_size, num_classes)\n",
    "\n",
    "    def forward(self, x):\n",
    "        h0 = torch.zeros(self.num_layers, x.size(0), self.hidden_size).to(device)\n",
    "        c0 = torch.zeros(self.num_layers, x.size(0), self.hidden_size).to(device)\n",
    "        out, _ = self.rnn(x, (h0,c0))\n",
    "        out = out[:, -1, :]\n",
    "        return self.fc(out)\n"
   ]
  },
  {
   "cell_type": "code",
   "execution_count": 52,
   "metadata": {},
   "outputs": [],
   "source": [
    "model2 = LSTM(input_size, hidden_size, num_layers, num_classes)\n",
    "\n",
    "criterion = nn.CrossEntropyLoss()\n",
    "optimizer = torch.optim.Adam(model2.parameters(), lr=learning_rate)"
   ]
  },
  {
   "cell_type": "code",
   "execution_count": 53,
   "metadata": {},
   "outputs": [
    {
     "name": "stdout",
     "output_type": "stream",
     "text": [
      "Epoch [1/2], Step [100/600], Loss: 0.6264\n",
      "Epoch [1/2], Step [200/600], Loss: 0.6707\n",
      "Epoch [1/2], Step [300/600], Loss: 0.2365\n",
      "Epoch [1/2], Step [400/600], Loss: 0.0858\n",
      "Epoch [1/2], Step [500/600], Loss: 0.2309\n",
      "Epoch [1/2], Step [600/600], Loss: 0.1238\n",
      "Epoch [2/2], Step [100/600], Loss: 0.2309\n",
      "Epoch [2/2], Step [200/600], Loss: 0.1159\n",
      "Epoch [2/2], Step [300/600], Loss: 0.1435\n",
      "Epoch [2/2], Step [400/600], Loss: 0.0710\n",
      "Epoch [2/2], Step [500/600], Loss: 0.1001\n",
      "Epoch [2/2], Step [600/600], Loss: 0.0608\n"
     ]
    }
   ],
   "source": [
    "\n",
    "n_total_steps = len(train_loader)\n",
    "for epoch in range(num_epochs):\n",
    "    for i, (images, labels) in enumerate(train_loader):\n",
    "\n",
    "        images = images.reshape(-1, sequence_length, input_size).to(device)\n",
    "        labels = labels.to(device)\n",
    "\n",
    "        outputs = model2(images)\n",
    "\n",
    "        loss = criterion(outputs, labels)\n",
    "\n",
    "        optimizer.zero_grad()\n",
    "        loss.backward()\n",
    "        optimizer.step()\n",
    "\n",
    "        if (i+1)%100 == 0:\n",
    "            print(f'Epoch [{epoch+1}/{num_epochs}], Step [{i+1}/{n_total_steps}], Loss: {loss.item():.4f}')"
   ]
  },
  {
   "cell_type": "code",
   "execution_count": 54,
   "metadata": {},
   "outputs": [
    {
     "name": "stdout",
     "output_type": "stream",
     "text": [
      "Model : LSTM\n",
      "Accuracy: 0.97\n"
     ]
    }
   ],
   "source": [
    "model.eval()\n",
    "num_correct_prediction = 0\n",
    "total_number_prediction = 0\n",
    "for i, (images, labels) in enumerate(test_loader):\n",
    "    images = images.reshape(-1, sequence_length, input_size)\n",
    "    with torch.no_grad():\n",
    "        output = model2(images)\n",
    "        predicted_labels = torch.argmax(output, dim=1)\n",
    "        num_correct_prediction += torch.sum(labels == predicted_labels)\n",
    "        total_number_prediction += len(labels)\n",
    "\n",
    "print(\"Model : LSTM\")\n",
    "\n",
    "print(f'Accuracy: {(num_correct_prediction/total_number_prediction):.2f}')\n"
   ]
  }
 ],
 "metadata": {
  "kernelspec": {
   "display_name": "Python 3.9.6",
   "language": "python",
   "name": "python3"
  },
  "language_info": {
   "codemirror_mode": {
    "name": "ipython",
    "version": 3
   },
   "file_extension": ".py",
   "mimetype": "text/x-python",
   "name": "python",
   "nbconvert_exporter": "python",
   "pygments_lexer": "ipython3",
   "version": "3.9.6"
  },
  "orig_nbformat": 4,
  "vscode": {
   "interpreter": {
    "hash": "1ac2795493b3c8a98e1d51f9bca4fab5fcea64dcea90dee5792dd55a40a58369"
   }
  }
 },
 "nbformat": 4,
 "nbformat_minor": 2
}
